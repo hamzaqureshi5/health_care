{
 "cells": [
  {
   "cell_type": "code",
   "execution_count": 1,
   "metadata": {},
   "outputs": [],
   "source": [
    "import pandas as pd\n",
    "df = pd.read_csv(\"data.csv\")"
   ]
  },
  {
   "cell_type": "code",
   "execution_count": 2,
   "metadata": {},
   "outputs": [],
   "source": [
    "df.head()\n",
    "data=df"
   ]
  },
  {
   "cell_type": "code",
   "execution_count": 3,
   "metadata": {},
   "outputs": [],
   "source": [
    "label = data[\"DEATH_EVENT\"]\n",
    "data = data.drop([\"DEATH_EVENT\"], axis=1, inplace=False)\n",
    "# label.head()\n"
   ]
  },
  {
   "cell_type": "code",
   "execution_count": 4,
   "metadata": {},
   "outputs": [
    {
     "data": {
      "text/html": [
       "<div>\n",
       "<style scoped>\n",
       "    .dataframe tbody tr th:only-of-type {\n",
       "        vertical-align: middle;\n",
       "    }\n",
       "\n",
       "    .dataframe tbody tr th {\n",
       "        vertical-align: top;\n",
       "    }\n",
       "\n",
       "    .dataframe thead th {\n",
       "        text-align: right;\n",
       "    }\n",
       "</style>\n",
       "<table border=\"1\" class=\"dataframe\">\n",
       "  <thead>\n",
       "    <tr style=\"text-align: right;\">\n",
       "      <th></th>\n",
       "      <th>age</th>\n",
       "      <th>anaemia</th>\n",
       "      <th>creatinine_phosphokinase</th>\n",
       "      <th>diabetes</th>\n",
       "      <th>ejection_fraction</th>\n",
       "      <th>high_blood_pressure</th>\n",
       "      <th>platelets</th>\n",
       "      <th>serum_creatinine</th>\n",
       "      <th>serum_sodium</th>\n",
       "      <th>sex</th>\n",
       "      <th>smoking</th>\n",
       "      <th>time</th>\n",
       "    </tr>\n",
       "  </thead>\n",
       "  <tbody>\n",
       "    <tr>\n",
       "      <th>0</th>\n",
       "      <td>75.0</td>\n",
       "      <td>0</td>\n",
       "      <td>582</td>\n",
       "      <td>0</td>\n",
       "      <td>20</td>\n",
       "      <td>1</td>\n",
       "      <td>265000.00</td>\n",
       "      <td>1.9</td>\n",
       "      <td>130</td>\n",
       "      <td>1</td>\n",
       "      <td>0</td>\n",
       "      <td>4</td>\n",
       "    </tr>\n",
       "    <tr>\n",
       "      <th>1</th>\n",
       "      <td>55.0</td>\n",
       "      <td>0</td>\n",
       "      <td>7861</td>\n",
       "      <td>0</td>\n",
       "      <td>38</td>\n",
       "      <td>0</td>\n",
       "      <td>263358.03</td>\n",
       "      <td>1.1</td>\n",
       "      <td>136</td>\n",
       "      <td>1</td>\n",
       "      <td>0</td>\n",
       "      <td>6</td>\n",
       "    </tr>\n",
       "    <tr>\n",
       "      <th>2</th>\n",
       "      <td>65.0</td>\n",
       "      <td>0</td>\n",
       "      <td>146</td>\n",
       "      <td>0</td>\n",
       "      <td>20</td>\n",
       "      <td>0</td>\n",
       "      <td>162000.00</td>\n",
       "      <td>1.3</td>\n",
       "      <td>129</td>\n",
       "      <td>1</td>\n",
       "      <td>1</td>\n",
       "      <td>7</td>\n",
       "    </tr>\n",
       "    <tr>\n",
       "      <th>3</th>\n",
       "      <td>50.0</td>\n",
       "      <td>1</td>\n",
       "      <td>111</td>\n",
       "      <td>0</td>\n",
       "      <td>20</td>\n",
       "      <td>0</td>\n",
       "      <td>210000.00</td>\n",
       "      <td>1.9</td>\n",
       "      <td>137</td>\n",
       "      <td>1</td>\n",
       "      <td>0</td>\n",
       "      <td>7</td>\n",
       "    </tr>\n",
       "    <tr>\n",
       "      <th>4</th>\n",
       "      <td>65.0</td>\n",
       "      <td>1</td>\n",
       "      <td>160</td>\n",
       "      <td>1</td>\n",
       "      <td>20</td>\n",
       "      <td>0</td>\n",
       "      <td>327000.00</td>\n",
       "      <td>2.7</td>\n",
       "      <td>116</td>\n",
       "      <td>0</td>\n",
       "      <td>0</td>\n",
       "      <td>8</td>\n",
       "    </tr>\n",
       "  </tbody>\n",
       "</table>\n",
       "</div>"
      ],
      "text/plain": [
       "    age  anaemia  creatinine_phosphokinase  diabetes  ejection_fraction  \\\n",
       "0  75.0        0                       582         0                 20   \n",
       "1  55.0        0                      7861         0                 38   \n",
       "2  65.0        0                       146         0                 20   \n",
       "3  50.0        1                       111         0                 20   \n",
       "4  65.0        1                       160         1                 20   \n",
       "\n",
       "   high_blood_pressure  platelets  serum_creatinine  serum_sodium  sex  \\\n",
       "0                    1  265000.00               1.9           130    1   \n",
       "1                    0  263358.03               1.1           136    1   \n",
       "2                    0  162000.00               1.3           129    1   \n",
       "3                    0  210000.00               1.9           137    1   \n",
       "4                    0  327000.00               2.7           116    0   \n",
       "\n",
       "   smoking  time  \n",
       "0        0     4  \n",
       "1        0     6  \n",
       "2        1     7  \n",
       "3        0     7  \n",
       "4        0     8  "
      ]
     },
     "execution_count": 4,
     "metadata": {},
     "output_type": "execute_result"
    }
   ],
   "source": [
    "data.head()"
   ]
  },
  {
   "cell_type": "code",
   "execution_count": 6,
   "metadata": {},
   "outputs": [],
   "source": [
    "# Normalization\n",
    "mean = data.iloc[:, 0:13].mean(axis=0)\n",
    "data.iloc[:, 0:13] -= mean\n",
    "std = data.iloc[:, 0:13].std(axis=0)\n",
    "data.iloc[:, 0:13] /= std\n"
   ]
  },
  {
   "cell_type": "code",
   "execution_count": 91,
   "metadata": {},
   "outputs": [
    {
     "data": {
      "text/html": [
       "<div>\n",
       "<style scoped>\n",
       "    .dataframe tbody tr th:only-of-type {\n",
       "        vertical-align: middle;\n",
       "    }\n",
       "\n",
       "    .dataframe tbody tr th {\n",
       "        vertical-align: top;\n",
       "    }\n",
       "\n",
       "    .dataframe thead th {\n",
       "        text-align: right;\n",
       "    }\n",
       "</style>\n",
       "<table border=\"1\" class=\"dataframe\">\n",
       "  <thead>\n",
       "    <tr style=\"text-align: right;\">\n",
       "      <th></th>\n",
       "      <th>age</th>\n",
       "      <th>anaemia</th>\n",
       "      <th>creatinine_phosphokinase</th>\n",
       "      <th>diabetes</th>\n",
       "      <th>ejection_fraction</th>\n",
       "      <th>high_blood_pressure</th>\n",
       "      <th>platelets</th>\n",
       "      <th>serum_creatinine</th>\n",
       "      <th>serum_sodium</th>\n",
       "      <th>sex</th>\n",
       "      <th>smoking</th>\n",
       "      <th>time</th>\n",
       "    </tr>\n",
       "  </thead>\n",
       "  <tbody>\n",
       "    <tr>\n",
       "      <th>0</th>\n",
       "      <td>1.190949</td>\n",
       "      <td>-0.869647</td>\n",
       "      <td>0.000165</td>\n",
       "      <td>-0.846161</td>\n",
       "      <td>-1.527998</td>\n",
       "      <td>1.356997</td>\n",
       "      <td>1.678834e-02</td>\n",
       "      <td>0.489237</td>\n",
       "      <td>-1.501519</td>\n",
       "      <td>0.734457</td>\n",
       "      <td>-0.686531</td>\n",
       "      <td>-1.626775</td>\n",
       "    </tr>\n",
       "    <tr>\n",
       "      <th>1</th>\n",
       "      <td>-0.490457</td>\n",
       "      <td>-0.869647</td>\n",
       "      <td>7.502063</td>\n",
       "      <td>-0.846161</td>\n",
       "      <td>-0.007065</td>\n",
       "      <td>-0.734457</td>\n",
       "      <td>7.523048e-09</td>\n",
       "      <td>-0.284076</td>\n",
       "      <td>-0.141739</td>\n",
       "      <td>0.734457</td>\n",
       "      <td>-0.686531</td>\n",
       "      <td>-1.601007</td>\n",
       "    </tr>\n",
       "    <tr>\n",
       "      <th>2</th>\n",
       "      <td>0.350246</td>\n",
       "      <td>-0.869647</td>\n",
       "      <td>-0.449186</td>\n",
       "      <td>-0.846161</td>\n",
       "      <td>-1.527998</td>\n",
       "      <td>-0.734457</td>\n",
       "      <td>-1.036336e+00</td>\n",
       "      <td>-0.090748</td>\n",
       "      <td>-1.728149</td>\n",
       "      <td>0.734457</td>\n",
       "      <td>1.451727</td>\n",
       "      <td>-1.588122</td>\n",
       "    </tr>\n",
       "    <tr>\n",
       "      <th>3</th>\n",
       "      <td>-0.910808</td>\n",
       "      <td>1.146046</td>\n",
       "      <td>-0.485257</td>\n",
       "      <td>-0.846161</td>\n",
       "      <td>-1.527998</td>\n",
       "      <td>-0.734457</td>\n",
       "      <td>-5.455595e-01</td>\n",
       "      <td>0.489237</td>\n",
       "      <td>0.084892</td>\n",
       "      <td>0.734457</td>\n",
       "      <td>-0.686531</td>\n",
       "      <td>-1.588122</td>\n",
       "    </tr>\n",
       "    <tr>\n",
       "      <th>4</th>\n",
       "      <td>0.350246</td>\n",
       "      <td>1.146046</td>\n",
       "      <td>-0.434757</td>\n",
       "      <td>1.177856</td>\n",
       "      <td>-1.527998</td>\n",
       "      <td>-0.734457</td>\n",
       "      <td>6.507077e-01</td>\n",
       "      <td>1.262550</td>\n",
       "      <td>-4.674340</td>\n",
       "      <td>-1.356997</td>\n",
       "      <td>-0.686531</td>\n",
       "      <td>-1.575238</td>\n",
       "    </tr>\n",
       "  </tbody>\n",
       "</table>\n",
       "</div>"
      ],
      "text/plain": [
       "        age   anaemia  creatinine_phosphokinase  diabetes  ejection_fraction  \\\n",
       "0  1.190949 -0.869647                  0.000165 -0.846161          -1.527998   \n",
       "1 -0.490457 -0.869647                  7.502063 -0.846161          -0.007065   \n",
       "2  0.350246 -0.869647                 -0.449186 -0.846161          -1.527998   \n",
       "3 -0.910808  1.146046                 -0.485257 -0.846161          -1.527998   \n",
       "4  0.350246  1.146046                 -0.434757  1.177856          -1.527998   \n",
       "\n",
       "   high_blood_pressure     platelets  serum_creatinine  serum_sodium  \\\n",
       "0             1.356997  1.678834e-02          0.489237     -1.501519   \n",
       "1            -0.734457  7.523048e-09         -0.284076     -0.141739   \n",
       "2            -0.734457 -1.036336e+00         -0.090748     -1.728149   \n",
       "3            -0.734457 -5.455595e-01          0.489237      0.084892   \n",
       "4            -0.734457  6.507077e-01          1.262550     -4.674340   \n",
       "\n",
       "        sex   smoking      time  \n",
       "0  0.734457 -0.686531 -1.626775  \n",
       "1  0.734457 -0.686531 -1.601007  \n",
       "2  0.734457  1.451727 -1.588122  \n",
       "3  0.734457 -0.686531 -1.588122  \n",
       "4 -1.356997 -0.686531 -1.575238  "
      ]
     },
     "execution_count": 91,
     "metadata": {},
     "output_type": "execute_result"
    }
   ],
   "source": [
    "data.head()"
   ]
  },
  {
   "cell_type": "code",
   "execution_count": 7,
   "metadata": {},
   "outputs": [],
   "source": [
    "import numpy as np\n",
    "# for seperating 70 percent of data\n",
    "np.random.seed(11111)\n",
    "msk = np.random.rand(len(data)) < 0.70\n",
    "train_data = data[msk]\n",
    "test_data = data[~msk]\n",
    "\n",
    "train_label = label[msk]\n",
    "test_label = label[~msk]"
   ]
  },
  {
   "cell_type": "code",
   "execution_count": 11,
   "metadata": {},
   "outputs": [
    {
     "name": "stdout",
     "output_type": "stream",
     "text": [
      "<class 'pandas.core.frame.DataFrame'>\n",
      "Index: 206 entries, 1 to 297\n",
      "Data columns (total 12 columns):\n",
      " #   Column                    Non-Null Count  Dtype  \n",
      "---  ------                    --------------  -----  \n",
      " 0   age                       206 non-null    float64\n",
      " 1   anaemia                   206 non-null    float64\n",
      " 2   creatinine_phosphokinase  206 non-null    float64\n",
      " 3   diabetes                  206 non-null    float64\n",
      " 4   ejection_fraction         206 non-null    float64\n",
      " 5   high_blood_pressure       206 non-null    float64\n",
      " 6   platelets                 206 non-null    float64\n",
      " 7   serum_creatinine          206 non-null    float64\n",
      " 8   serum_sodium              206 non-null    float64\n",
      " 9   sex                       206 non-null    float64\n",
      " 10  smoking                   206 non-null    float64\n",
      " 11  time                      206 non-null    float64\n",
      "dtypes: float64(12)\n",
      "memory usage: 20.9 KB\n"
     ]
    }
   ],
   "source": [
    "\n",
    "train_data.info()"
   ]
  },
  {
   "cell_type": "code",
   "execution_count": 16,
   "metadata": {},
   "outputs": [
    {
     "data": {
      "text/plain": [
       "array([[-0.49045705, -0.86964686,  7.50206272, ...,  0.73445691,\n",
       "        -0.68653097, -1.60100673],\n",
       "       [ 0.35024581, -0.86964686, -0.44918572, ...,  0.73445691,\n",
       "         1.45172695, -1.58812249],\n",
       "       [-0.91080848,  1.14604625, -0.48525749, ...,  0.73445691,\n",
       "        -0.68653097, -1.58812249],\n",
       "       ...,\n",
       "       [ 0.09803495, -0.86964686, -0.53678859, ...,  0.73445691,\n",
       "         1.45172695,  1.80043235],\n",
       "       [-0.49045705, -0.86964686,  1.27607544, ..., -1.35699658,\n",
       "        -0.68653097,  1.81331658],\n",
       "       [-1.33115991, -0.86964686,  1.88723426, ...,  0.73445691,\n",
       "         1.45172695,  1.92927473]])"
      ]
     },
     "execution_count": 16,
     "metadata": {},
     "output_type": "execute_result"
    }
   ],
   "source": [
    "train_label_np = train_label.to_numpy()\n",
    "train_data_np = train_data.to_numpy()\n",
    "\n",
    "train_data_np"
   ]
  },
  {
   "cell_type": "code",
   "execution_count": 17,
   "metadata": {},
   "outputs": [
    {
     "name": "stderr",
     "output_type": "stream",
     "text": [
      "c:\\Users\\hamza.qureshi\\AppData\\Local\\anaconda3\\envs\\generalEnv\\Lib\\site-packages\\keras\\src\\layers\\core\\dense.py:88: UserWarning: Do not pass an `input_shape`/`input_dim` argument to a layer. When using Sequential models, prefer using an `Input(shape)` object as the first layer in the model instead.\n",
      "  super().__init__(activity_regularizer=activity_regularizer, **kwargs)\n"
     ]
    },
    {
     "name": "stdout",
     "output_type": "stream",
     "text": [
      "Epoch 1/10\n",
      "\u001b[1m6/6\u001b[0m \u001b[32m━━━━━━━━━━━━━━━━━━━━\u001b[0m\u001b[37m\u001b[0m \u001b[1m1s\u001b[0m 25ms/step - accuracy: 0.3747 - loss: 0.7525 - val_accuracy: 0.2857 - val_loss: 0.7662\n",
      "Epoch 2/10\n",
      "\u001b[1m6/6\u001b[0m \u001b[32m━━━━━━━━━━━━━━━━━━━━\u001b[0m\u001b[37m\u001b[0m \u001b[1m0s\u001b[0m 17ms/step - accuracy: 0.4218 - loss: 0.7118 - val_accuracy: 0.4286 - val_loss: 0.7018\n",
      "Epoch 3/10\n",
      "\u001b[1m6/6\u001b[0m \u001b[32m━━━━━━━━━━━━━━━━━━━━\u001b[0m\u001b[37m\u001b[0m \u001b[1m0s\u001b[0m 5ms/step - accuracy: 0.4954 - loss: 0.7029 - val_accuracy: 0.6190 - val_loss: 0.6519\n",
      "Epoch 4/10\n",
      "\u001b[1m6/6\u001b[0m \u001b[32m━━━━━━━━━━━━━━━━━━━━\u001b[0m\u001b[37m\u001b[0m \u001b[1m0s\u001b[0m 6ms/step - accuracy: 0.6199 - loss: 0.6730 - val_accuracy: 0.7857 - val_loss: 0.6051\n",
      "Epoch 5/10\n",
      "\u001b[1m6/6\u001b[0m \u001b[32m━━━━━━━━━━━━━━━━━━━━\u001b[0m\u001b[37m\u001b[0m \u001b[1m0s\u001b[0m 6ms/step - accuracy: 0.6202 - loss: 0.6395 - val_accuracy: 0.8810 - val_loss: 0.5669\n",
      "Epoch 6/10\n",
      "\u001b[1m6/6\u001b[0m \u001b[32m━━━━━━━━━━━━━━━━━━━━\u001b[0m\u001b[37m\u001b[0m \u001b[1m0s\u001b[0m 6ms/step - accuracy: 0.6779 - loss: 0.6282 - val_accuracy: 0.9048 - val_loss: 0.5308\n",
      "Epoch 7/10\n",
      "\u001b[1m6/6\u001b[0m \u001b[32m━━━━━━━━━━━━━━━━━━━━\u001b[0m\u001b[37m\u001b[0m \u001b[1m0s\u001b[0m 6ms/step - accuracy: 0.7333 - loss: 0.6174 - val_accuracy: 0.9286 - val_loss: 0.4935\n",
      "Epoch 8/10\n",
      "\u001b[1m6/6\u001b[0m \u001b[32m━━━━━━━━━━━━━━━━━━━━\u001b[0m\u001b[37m\u001b[0m \u001b[1m0s\u001b[0m 6ms/step - accuracy: 0.7240 - loss: 0.6034 - val_accuracy: 0.9286 - val_loss: 0.4660\n",
      "Epoch 9/10\n",
      "\u001b[1m6/6\u001b[0m \u001b[32m━━━━━━━━━━━━━━━━━━━━\u001b[0m\u001b[37m\u001b[0m \u001b[1m0s\u001b[0m 7ms/step - accuracy: 0.7638 - loss: 0.5924 - val_accuracy: 0.9286 - val_loss: 0.4380\n",
      "Epoch 10/10\n",
      "\u001b[1m6/6\u001b[0m \u001b[32m━━━━━━━━━━━━━━━━━━━━\u001b[0m\u001b[37m\u001b[0m \u001b[1m0s\u001b[0m 7ms/step - accuracy: 0.7997 - loss: 0.5645 - val_accuracy: 0.9286 - val_loss: 0.4115\n"
     ]
    },
    {
     "data": {
      "text/plain": [
       "<keras.src.callbacks.history.History at 0x288f12eb790>"
      ]
     },
     "execution_count": 17,
     "metadata": {},
     "output_type": "execute_result"
    }
   ],
   "source": [
    "\n",
    "import tensorflow as tf\n",
    "from tensorflow.keras.models import Sequential\n",
    "from tensorflow.keras.layers import Dense\n",
    "\n",
    "# Initialize the model\n",
    "model = Sequential([\n",
    "    Dense(32, activation='relu', input_shape=(train_data_np.shape[1],)),\n",
    "    Dense(32, activation='relu'),\n",
    "    Dense(1, activation='sigmoid')\n",
    "])\n",
    "\n",
    "# Compile the model\n",
    "model.compile(optimizer='adam', loss='binary_crossentropy', metrics=['accuracy'])\n",
    "\n",
    "# Train the model\n",
    "model.fit(train_data_np, train_label_np, epochs=10, batch_size=32, validation_split=0.2, verbose = True)\n",
    "\n"
   ]
  },
  {
   "cell_type": "code",
   "execution_count": 22,
   "metadata": {},
   "outputs": [
    {
     "name": "stdout",
     "output_type": "stream",
     "text": [
      "\u001b[1m3/3\u001b[0m \u001b[32m━━━━━━━━━━━━━━━━━━━━\u001b[0m\u001b[37m\u001b[0m \u001b[1m0s\u001b[0m 3ms/step - accuracy: 0.7138 - loss: 0.6150 \n",
      "Neural Network Accuracy: 0.76, and loss is 0.577751\n"
     ]
    }
   ],
   "source": [
    "test_label_np = test_label.to_numpy()\n",
    "test_data_np = test_data.to_numpy()\n",
    "\n",
    "# Evaluate the model\n",
    "loss, accuracy = model.evaluate(test_data_np, test_label_np)\n",
    "print(f\"Neural Network Accuracy: {accuracy:.2f}, and loss is {loss:2f}\")\n",
    "\n",
    "# import xgboost as xgb\n",
    "\n",
    "# # Initialize the model\n",
    "# model = xgb.XGBClassifier()\n",
    "\n",
    "# # Train the model\n",
    "# model.fit(train_label_np, train_data_np)"
   ]
  }
 ],
 "metadata": {
  "kernelspec": {
   "display_name": "generalEnv",
   "language": "python",
   "name": "python3"
  },
  "language_info": {
   "codemirror_mode": {
    "name": "ipython",
    "version": 3
   },
   "file_extension": ".py",
   "mimetype": "text/x-python",
   "name": "python",
   "nbconvert_exporter": "python",
   "pygments_lexer": "ipython3",
   "version": "3.11.5"
  }
 },
 "nbformat": 4,
 "nbformat_minor": 2
}
